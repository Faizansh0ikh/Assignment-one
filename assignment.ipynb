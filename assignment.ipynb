{
 "cells": [
  {
   "cell_type": "code",
   "execution_count": 1,
   "id": "2697804b-03e4-4381-b5e8-cb05e15b2c1d",
   "metadata": {},
   "outputs": [],
   "source": [
    "#Q1"
   ]
  },
  {
   "cell_type": "code",
   "execution_count": 2,
   "id": "eb4cb702-aa08-440e-8a18-f9b320e3b7e1",
   "metadata": {},
   "outputs": [],
   "source": [
    "#String variable"
   ]
  },
  {
   "cell_type": "code",
   "execution_count": 3,
   "id": "5e5c8117-2e83-4c45-abff-52cd85dec476",
   "metadata": {},
   "outputs": [],
   "source": [
    "a=\"faizan\""
   ]
  },
  {
   "cell_type": "code",
   "execution_count": 4,
   "id": "9cd33947-5850-4d55-9973-cfa89bba3632",
   "metadata": {},
   "outputs": [],
   "source": [
    "#list variable"
   ]
  },
  {
   "cell_type": "code",
   "execution_count": 5,
   "id": "c437905e-7222-43de-8445-6f0150dd069c",
   "metadata": {},
   "outputs": [],
   "source": [
    "b=[1,2,3,4,\"shaikh\",True]"
   ]
  },
  {
   "cell_type": "code",
   "execution_count": 6,
   "id": "a1820ab4-d706-4764-aef5-e66c5c85ccce",
   "metadata": {},
   "outputs": [],
   "source": [
    "#float variable"
   ]
  },
  {
   "cell_type": "code",
   "execution_count": 7,
   "id": "a99d1ddb-ef9e-4939-a5dc-1df976c95139",
   "metadata": {},
   "outputs": [],
   "source": [
    "c=34.22"
   ]
  },
  {
   "cell_type": "code",
   "execution_count": 8,
   "id": "22e54be6-ec01-48a6-8067-d9a8af92a28b",
   "metadata": {},
   "outputs": [],
   "source": [
    "#tuple variable"
   ]
  },
  {
   "cell_type": "code",
   "execution_count": 9,
   "id": "db2657e4-e2f5-4e35-a182-39de28281d04",
   "metadata": {},
   "outputs": [],
   "source": [
    "d=(1,2,3,4,5,6,7,8)"
   ]
  },
  {
   "cell_type": "code",
   "execution_count": 10,
   "id": "757c66a7-a086-4eab-bffa-8af32c1aba76",
   "metadata": {},
   "outputs": [],
   "source": [
    "#Q2"
   ]
  },
  {
   "cell_type": "code",
   "execution_count": 11,
   "id": "b27f13fb-4379-439f-8fc7-b0a8a2a8cd25",
   "metadata": {},
   "outputs": [],
   "source": [
    "var1=''"
   ]
  },
  {
   "cell_type": "code",
   "execution_count": 12,
   "id": "a0cef589-e329-4322-80dc-08f7efdb2a9f",
   "metadata": {},
   "outputs": [
    {
     "data": {
      "text/plain": [
       "str"
      ]
     },
     "execution_count": 12,
     "metadata": {},
     "output_type": "execute_result"
    }
   ],
   "source": [
    "type(var1)"
   ]
  },
  {
   "cell_type": "code",
   "execution_count": 13,
   "id": "1f4f0d34-7792-41dd-b32d-edf3a3e7ae50",
   "metadata": {},
   "outputs": [],
   "source": [
    "var2='[DS,ML,Python]'"
   ]
  },
  {
   "cell_type": "code",
   "execution_count": 14,
   "id": "27c02714-ffc5-4c01-923f-b76eab3ec91c",
   "metadata": {},
   "outputs": [
    {
     "data": {
      "text/plain": [
       "str"
      ]
     },
     "execution_count": 14,
     "metadata": {},
     "output_type": "execute_result"
    }
   ],
   "source": [
    "type(var2)"
   ]
  },
  {
   "cell_type": "code",
   "execution_count": 15,
   "id": "b0cefd84-eea4-4195-a869-038ef987218e",
   "metadata": {},
   "outputs": [],
   "source": [
    "var3=['DS','ML','Python']"
   ]
  },
  {
   "cell_type": "code",
   "execution_count": 16,
   "id": "5407f477-58e6-4484-b763-14b322dfc275",
   "metadata": {},
   "outputs": [
    {
     "data": {
      "text/plain": [
       "list"
      ]
     },
     "execution_count": 16,
     "metadata": {},
     "output_type": "execute_result"
    }
   ],
   "source": [
    "type(var3)"
   ]
  },
  {
   "cell_type": "code",
   "execution_count": 17,
   "id": "69f9ada0-921e-4495-a91b-9b6809c5ef4e",
   "metadata": {},
   "outputs": [],
   "source": [
    "var4=1"
   ]
  },
  {
   "cell_type": "code",
   "execution_count": 18,
   "id": "ce593d2e-bd12-4df9-964a-7fa968db4e36",
   "metadata": {},
   "outputs": [
    {
     "data": {
      "text/plain": [
       "int"
      ]
     },
     "execution_count": 18,
     "metadata": {},
     "output_type": "execute_result"
    }
   ],
   "source": [
    "type(var4)"
   ]
  },
  {
   "cell_type": "code",
   "execution_count": 19,
   "id": "61edec9d-656d-4e29-8848-72e94ce02068",
   "metadata": {},
   "outputs": [],
   "source": [
    "#Q3"
   ]
  },
  {
   "cell_type": "code",
   "execution_count": 20,
   "id": "b608e272-9800-49b6-b2fe-94fd1d327cfa",
   "metadata": {},
   "outputs": [],
   "source": [
    "#/ division operator use for dividing two numbers\n",
    "#EXAMPLE\n",
    "a=10\n",
    "b=2\n",
    "c=a/b"
   ]
  },
  {
   "cell_type": "code",
   "execution_count": 21,
   "id": "1ecbd788-6e5b-425b-91a2-af24835f1be8",
   "metadata": {},
   "outputs": [
    {
     "data": {
      "text/plain": [
       "5.0"
      ]
     },
     "execution_count": 21,
     "metadata": {},
     "output_type": "execute_result"
    }
   ],
   "source": [
    "c"
   ]
  },
  {
   "cell_type": "code",
   "execution_count": 22,
   "id": "e183b56c-3800-4eb4-920d-2d0cc6d63126",
   "metadata": {},
   "outputs": [],
   "source": [
    "# % modules operator use for getting reminder\n",
    "#EXAMPLE\n",
    "a=20\n",
    "b=10\n",
    "c=a%b"
   ]
  },
  {
   "cell_type": "code",
   "execution_count": 23,
   "id": "33453a77-45aa-47c7-b909-a99d4663f1c3",
   "metadata": {},
   "outputs": [
    {
     "data": {
      "text/plain": [
       "0"
      ]
     },
     "execution_count": 23,
     "metadata": {},
     "output_type": "execute_result"
    }
   ],
   "source": [
    "c"
   ]
  },
  {
   "cell_type": "code",
   "execution_count": 24,
   "id": "0133caa8-f03e-470c-8e95-67dc9b2aec03",
   "metadata": {},
   "outputs": [],
   "source": [
    "# // floor division operator it performs division between two numbers and returns the largest integer that is less than or equal to the quotient\n",
    "#EXAMPLE\n",
    "a=10\n",
    "b=3\n",
    "c=a//b"
   ]
  },
  {
   "cell_type": "code",
   "execution_count": 25,
   "id": "aced61c6-9f85-47eb-b5f8-12176aa83c8b",
   "metadata": {},
   "outputs": [
    {
     "data": {
      "text/plain": [
       "3"
      ]
     },
     "execution_count": 25,
     "metadata": {},
     "output_type": "execute_result"
    }
   ],
   "source": [
    "c"
   ]
  },
  {
   "cell_type": "code",
   "execution_count": 26,
   "id": "f750de4b-a40f-49e2-b92a-4eb90ff709a8",
   "metadata": {},
   "outputs": [],
   "source": [
    "#** operator is used for exponentiation it raises the left operand to the power of the right operand\n",
    "#EXAMPLE\n",
    "a=2**3"
   ]
  },
  {
   "cell_type": "code",
   "execution_count": 27,
   "id": "e9cc0672-d36d-4908-8388-11f1569300f5",
   "metadata": {},
   "outputs": [
    {
     "data": {
      "text/plain": [
       "8"
      ]
     },
     "execution_count": 27,
     "metadata": {},
     "output_type": "execute_result"
    }
   ],
   "source": [
    "a"
   ]
  },
  {
   "cell_type": "code",
   "execution_count": null,
   "id": "8c166dd0-ca59-4ff2-a8fb-3e21c7594c11",
   "metadata": {},
   "outputs": [],
   "source": [
    "#Q4\n",
    "\n",
    "l = [1,1.5,\"faizan\",True,[1,2,3,4],(1,2,3,4),False,0,'$',1.5555]\n",
    "    \n",
    "for i in l:\n",
    "        \n",
    " print(i, type(i))\n",
    "        \n",
    " \n",
    "        \n"
   ]
  },
  {
   "cell_type": "code",
   "execution_count": null,
   "id": "95b2f711-6435-4e01-b08d-2c0325e0c4c7",
   "metadata": {},
   "outputs": [],
   "source": [
    "#Q5\n",
    "\n",
    "A = 20\n",
    "B = 10\n",
    "count = 0\n",
    "\n",
    "while A % B == 0:\n",
    "    A = A / B\n",
    "    count += 1\n",
    "\n",
    "if count > 0:\n",
    "    print(\"number is divisible times\",count)\n",
    "else:\n",
    "    print(\"Number A is not divisible by number B.\")\n",
    "\n",
    "\n",
    "\n"
   ]
  },
  {
   "cell_type": "code",
   "execution_count": null,
   "id": "1dbbfba4-9872-487b-a655-e7d6701022a1",
   "metadata": {},
   "outputs": [],
   "source": [
    "#Q6\n",
    "\n",
    "list = [1,2,3,4,5,6,7,8,9,10,11,12,13,14,15,16,17,18,19,20,21,22,23,24,25]\n",
    "for i in list:\n",
    "    \n",
    " if i % 3 == 0:\n",
    "     print(\"number is divisible by 3\",i)\n",
    " else:\n",
    "     print(\"number is not divisible by 3\",i)\n",
    "    "
   ]
  },
  {
   "cell_type": "code",
   "execution_count": null,
   "id": "3f1c4f25-9c8f-42d4-bfd6-e47c34246411",
   "metadata": {},
   "outputs": [],
   "source": [
    "#Q7\n",
    "\n",
    "#in immutable data types we cannot cahnge the value of variavle once its created, for example in int, float,touple\n",
    "a=10\n",
    "b=a\n",
    "\n",
    "a=a+1\n",
    "print(a)\n",
    "print(b)\n",
    "\n",
    "# in mutable data type we can change anytime the value of variable, for example list.\n",
    "\n",
    "list = [1,2,3,4,5]\n",
    "list[1]=0\n",
    "print(list)"
   ]
  },
  {
   "cell_type": "code",
   "execution_count": null,
   "id": "3baace4e-4c2a-4a5c-bfd2-9842f46bb3e3",
   "metadata": {},
   "outputs": [],
   "source": []
  },
  {
   "cell_type": "code",
   "execution_count": null,
   "id": "bad9acb4-e6e8-4ad3-a447-75f931352120",
   "metadata": {},
   "outputs": [],
   "source": []
  }
 ],
 "metadata": {
  "kernelspec": {
   "display_name": "Python 3 (ipykernel)",
   "language": "python",
   "name": "python3"
  },
  "language_info": {
   "codemirror_mode": {
    "name": "ipython",
    "version": 3
   },
   "file_extension": ".py",
   "mimetype": "text/x-python",
   "name": "python",
   "nbconvert_exporter": "python",
   "pygments_lexer": "ipython3",
   "version": "3.10.8"
  }
 },
 "nbformat": 4,
 "nbformat_minor": 5
}
